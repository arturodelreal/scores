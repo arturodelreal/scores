{
 "cells": [
  {
   "cell_type": "code",
   "execution_count": 1,
   "metadata": {
    "scrolled": true
   },
   "outputs": [
    {
     "name": "stderr",
     "output_type": "stream",
     "text": [
      "/Library/Frameworks/Python.framework/Versions/3.6/lib/python3.6/importlib/_bootstrap.py:205: RuntimeWarning: numpy.ufunc size changed, may indicate binary incompatibility. Expected 192 from C header, got 216 from PyObject\n",
      "  return f(*args, **kwds)\n",
      "/Library/Frameworks/Python.framework/Versions/3.6/lib/python3.6/importlib/_bootstrap.py:205: RuntimeWarning: numpy.ufunc size changed, may indicate binary incompatibility. Expected 192 from C header, got 216 from PyObject\n",
      "  return f(*args, **kwds)\n",
      "/Library/Frameworks/Python.framework/Versions/3.6/lib/python3.6/importlib/_bootstrap.py:205: RuntimeWarning: numpy.ufunc size changed, may indicate binary incompatibility. Expected 192 from C header, got 216 from PyObject\n",
      "  return f(*args, **kwds)\n",
      "/Library/Frameworks/Python.framework/Versions/3.6/lib/python3.6/importlib/_bootstrap.py:205: RuntimeWarning: numpy.ufunc size changed, may indicate binary incompatibility. Expected 192 from C header, got 216 from PyObject\n",
      "  return f(*args, **kwds)\n"
     ]
    }
   ],
   "source": [
    "import pandas as pd\n",
    "import sklearn\n",
    "from matplotlib import pyplot as plt\n"
   ]
  },
  {
   "cell_type": "code",
   "execution_count": 23,
   "metadata": {},
   "outputs": [],
   "source": [
    "MIN_PERCENTAGE = 0.3"
   ]
  },
  {
   "cell_type": "code",
   "execution_count": 14,
   "metadata": {},
   "outputs": [],
   "source": [
    "colors = {1013: 'lightpink', 1034: 'lightpink', 972: 'lightpink', 1037: 'lightpink', 987: 'lightpink', 1049: 'lightpink', 1051: 'lightpink', 1039: 'lightpink', 1018: 'lightpink', 986: 'lightpink', 1023: 'lightpink', 991: 'lightpink', 1015: 'lightpink', 815: 'blue', 973: 'red', 1017: 'green', 931: 'salmon', 1025: 'purple', 850: 'blue', 1036: 'green', 1041: 'skyblue', 866: 'green', 945: 'blue', 1053: 'blue', 879: 'yellow', 946: 'purple', 1064: 'green', 1069: 'purple', 803: 'green', 968: 'salmon', 1011: 'green', 810: 'yellow', 925: 'green', 926: 'blue', 1012: 'red', 811: 'blue', 970: 'blue', 971: 'purple', 1014: 'green', 974: 'peru', 1019: 'purple', 1020: 'peru', 1021: 'purple', 975: 'salmon', 976: 'blue', 1024: 'skyblue', 827: 'green', 1027: 'purple', 1028: 'purple', 837: 'salmon', 981: 'salmon', 982: 'yellow', 1030: 'purple', 1031: 'blue', 984: 'purple', 985: 'blue', 1032: 'purple', 843: 'purple', 1033: 'green', 936: 'peru', 937: 'red', 1035: 'red', 1038: 'salmon', 855: 'green', 1040: 'purple', 1042: 'skyblue', 967: 'blue', 172: 'purple', 1043: 'red', 989: 'blue', 1044: 'salmon', 1045: 'purple', 1046: 'purple', 862: 'green', 942: 'blue', 1048: 'peru', 660: 'yellow', 865: 'blue', 1050: 'purple', 1054: 'purple', 1063: 'lightpink', 897: 'lightpink', 1068: 'lightpink', 1076: 'lightpink', 1008: 'lightpink', 1083: 'lightpink', 1087: 'lightpink', 1086: 'lightpink', 908: 'lightpink', 885: 'lightpink', 872: 'lightpink', 1085: 'lightpink', 1058: 'lightpink', 961: 'green', 1026: 'purple', 1029: 'purple', 848: 'peru', 940: 'blue', 856: 'peru', 1047: 'purple', 1052: 'skyblue', 869: 'salmon', 1062: 'yellow', 1065: 'blue', 999: 'purple', 1066: 'blue', 1067: 'purple', 1075: 'purple', 920: 'salmon', 898: 'yellow', 1002: 'salmon', 1077: 'green', 956: 'red', 913: 'yellow', 1084: 'yellow', 917: 'blue', 963: 'yellow', 1088: 'purple', 1089: 'blue', 1090: 'purple', 1009: 'blue', 1010: 'skyblue', 923: 'blue', 1016: 'yellow', 1022: 'purple', 74: 'salmon', 1055: 'blue', 875: 'blue', 993: 'red', 994: 'purple', 1056: 'salmon', 1057: 'green', 1059: 'purple', 1060: 'purple', 1061: 'peru', 995: 'purple', 1000: 'salmon', 1070: 'green', 1071: 'salmon', 893: 'yellow', 949: 'purple', 950: 'green', 1001: 'salmon', 1072: 'blue', 1073: 'salmon', 952: 'purple', 1074: 'red', 953: 'purple', 1078: 'salmon', 1079: 'purple', 957: 'yellow', 1003: 'blue', 1080: 'green', 1081: 'skyblue', 1005: 'blue', 1082: 'purple', 1006: 'red', 959: 'blue'}\n"
   ]
  },
  {
   "cell_type": "code",
   "execution_count": 8,
   "metadata": {},
   "outputs": [],
   "source": [
    "from sklearn.decomposition import PCA"
   ]
  },
  {
   "cell_type": "code",
   "execution_count": 24,
   "metadata": {},
   "outputs": [],
   "source": [
    "data = []\n",
    "deputies = []\n",
    "with open('october7/votations.csv') as infile:\n",
    "    infile.readline()\n",
    "    for line in infile:\n",
    "        row = line.strip().split(',')\n",
    "        innatendance = row.count('50')\n",
    "        if innatendance / len(row) > MIN_PERCENTAGE:\n",
    "            continue\n",
    "        deputies.append(int(row[0]))\n",
    "        data.append(list(map(int, row[1:])))\n",
    "        \n"
   ]
  },
  {
   "cell_type": "code",
   "execution_count": 7,
   "metadata": {},
   "outputs": [
    {
     "data": {
      "text/plain": [
       "158"
      ]
     },
     "execution_count": 7,
     "metadata": {},
     "output_type": "execute_result"
    }
   ],
   "source": [
    "len(data)\n"
   ]
  },
  {
   "cell_type": "code",
   "execution_count": 25,
   "metadata": {},
   "outputs": [],
   "source": [
    "pca = PCA(n_components=2)\n",
    "reduced_values = pca.fit_transform(data)\n"
   ]
  },
  {
   "cell_type": "code",
   "execution_count": 26,
   "metadata": {},
   "outputs": [
    {
     "data": {
      "text/plain": [
       "array([[ 1.45382094e+03,  1.81106091e+02],\n",
       "       [-1.58189685e+03, -1.68487108e+02],\n",
       "       [ 8.64650488e+02,  1.95617264e+02],\n",
       "       [ 4.99267654e+02,  8.73773214e+02],\n",
       "       [-1.55697300e+03, -1.93171936e+02],\n",
       "       [-1.45728638e+03, -6.76362289e+01],\n",
       "       [ 1.53256036e+03, -7.04743777e+01],\n",
       "       [ 1.15424681e+03,  2.55089059e+02],\n",
       "       [-1.29197819e+03, -7.03186911e+01],\n",
       "       [ 1.52480464e+03, -8.93441179e+01],\n",
       "       [-1.30460152e+03, -8.21608350e+01],\n",
       "       [ 4.52422668e+02,  8.92362328e+02],\n",
       "       [ 1.06606148e+03,  2.89781850e+02],\n",
       "       [-1.65034473e+03, -2.29819859e+02],\n",
       "       [ 1.34610318e+03,  2.33404110e+02],\n",
       "       [-1.16356398e+03, -7.17546087e+01],\n",
       "       [-3.88966094e+01,  1.00578765e+03],\n",
       "       [-4.27967791e+02,  7.72625469e+02],\n",
       "       [ 1.57596132e+03, -7.63792560e+01],\n",
       "       [ 4.47941560e+02,  9.19770207e+02],\n",
       "       [ 4.70065894e+02,  7.07778802e+02],\n",
       "       [-1.63620124e+03, -1.75319279e+02],\n",
       "       [ 1.28880018e+03,  3.17822632e+02],\n",
       "       [-1.21616042e+03, -7.47930608e+01],\n",
       "       [ 2.17135999e+02,  8.43295896e+02],\n",
       "       [-1.53409605e+03, -1.42514332e+02],\n",
       "       [ 1.47575342e+03, -2.33046227e+02],\n",
       "       [-1.46907028e+03, -2.70523883e+02],\n",
       "       [-1.48134331e+03, -3.12295262e+02],\n",
       "       [-1.35540787e+03, -1.03401277e+02],\n",
       "       [-1.64281282e+03, -1.29585569e+02],\n",
       "       [ 1.29801180e+03,  1.56035121e+02],\n",
       "       [-1.42800599e+03, -4.47612577e+01],\n",
       "       [-1.50246703e+03, -3.90533737e+01],\n",
       "       [ 1.44853129e+03, -1.91647962e+02],\n",
       "       [ 1.10730711e+03,  5.40387196e+02],\n",
       "       [-1.39277546e+03, -1.22688292e+02],\n",
       "       [ 1.43477406e+02,  1.06128881e+03],\n",
       "       [-1.28130922e+03, -3.15709712e+02],\n",
       "       [ 1.26147605e+03,  1.15638227e+02],\n",
       "       [-1.16611124e+03, -2.41562811e+01],\n",
       "       [-1.50693027e+03, -9.55593657e+00],\n",
       "       [ 1.50250775e+03, -4.43345503e+02],\n",
       "       [ 1.59893596e+03, -2.43795132e+02],\n",
       "       [ 1.36684889e+03,  2.53895677e+02],\n",
       "       [ 1.51984949e+03,  1.11433433e+02],\n",
       "       [-1.53205195e+03, -2.39498973e+02],\n",
       "       [ 1.51171277e+03,  9.33209399e+01],\n",
       "       [ 2.44584065e+02,  8.83540495e+02],\n",
       "       [-1.23999361e+03,  3.32173999e+01],\n",
       "       [-1.32776489e+03, -1.47842832e+02],\n",
       "       [ 1.04597143e+03,  6.51471829e+02],\n",
       "       [ 1.68496261e+03, -4.37640264e+02],\n",
       "       [-1.37391940e+03, -4.45096540e+01],\n",
       "       [ 1.29118954e+03, -2.44301895e+02],\n",
       "       [ 1.54431280e+03, -2.20454975e+02],\n",
       "       [-1.50723553e+03, -5.63319385e+01],\n",
       "       [ 1.56849550e+03,  5.01212893e+01],\n",
       "       [ 1.49223925e+03,  1.10976307e+02],\n",
       "       [ 1.16204028e+03,  2.58483356e+02],\n",
       "       [-1.47865311e+03, -8.94283047e+01],\n",
       "       [-1.53738342e+03, -2.35864142e+02],\n",
       "       [ 1.63921405e+03, -2.34624331e+02],\n",
       "       [ 1.80807189e+03, -6.27921740e+02],\n",
       "       [-1.40287541e+03, -3.07172815e+02],\n",
       "       [-1.36441613e+03,  4.64689316e+01],\n",
       "       [-1.25676825e+03, -1.50893153e+02],\n",
       "       [ 1.70366364e+03, -1.95132563e+02],\n",
       "       [ 1.41067205e+03, -1.29562512e+02],\n",
       "       [ 1.65825313e+03, -4.10030092e+02],\n",
       "       [-1.33547235e+02,  7.36040358e+02],\n",
       "       [-1.36466421e+03, -5.59129171e+01],\n",
       "       [ 1.65609984e+03, -4.58042730e+02],\n",
       "       [-1.51953532e+03, -6.05267333e+01],\n",
       "       [ 1.25520050e+03,  4.25298446e+02],\n",
       "       [-1.19933749e+03, -3.32581571e+01],\n",
       "       [-1.29885808e+03, -1.31038336e+02],\n",
       "       [ 1.59954852e+03, -3.93349178e+02],\n",
       "       [-1.37128768e+03, -9.71148733e+01],\n",
       "       [-1.38613734e+03, -1.60650869e+02],\n",
       "       [-1.29906942e+03, -1.57841784e+02],\n",
       "       [-1.38495391e+03, -1.37325694e+02],\n",
       "       [-1.43049964e+03, -1.04029167e+02],\n",
       "       [-1.44805220e+03, -2.28928169e+02],\n",
       "       [-1.44568280e+03, -1.03963883e+00],\n",
       "       [ 1.61766879e+03, -4.79269000e+02],\n",
       "       [ 1.80094097e+03, -5.68396935e+02],\n",
       "       [ 1.68408097e+03, -6.06141660e+02],\n",
       "       [ 1.71290633e+03, -5.04920580e+02],\n",
       "       [ 1.45490893e+03,  2.57581563e+02],\n",
       "       [ 1.42132013e+03, -6.44505409e+02],\n",
       "       [-1.55906717e+03, -1.19483802e+02],\n",
       "       [-1.21202306e+03, -2.57158899e+01],\n",
       "       [-1.21667583e+03,  7.21051077e+00],\n",
       "       [ 1.73897596e+03, -2.98931442e+02],\n",
       "       [ 1.31776590e+03,  1.31547389e+02],\n",
       "       [-1.35082883e+03,  8.13608187e+01],\n",
       "       [-1.53178663e+03, -3.84802201e+01],\n",
       "       [ 1.41541499e+03,  2.66592722e+02],\n",
       "       [ 1.07373140e+03,  5.33855349e+02],\n",
       "       [-1.53691483e+03, -6.56782756e+01],\n",
       "       [ 1.76280076e+03, -6.30384380e+02],\n",
       "       [-1.37693920e+03, -2.38520155e+01],\n",
       "       [-1.46748329e+03, -7.75127251e+01],\n",
       "       [-1.37824098e+03,  9.67685029e+01],\n",
       "       [-1.36991017e+03, -9.20372004e+01],\n",
       "       [ 1.61215533e+03, -2.53031928e+01],\n",
       "       [-1.04789816e+03,  2.39515336e+02],\n",
       "       [ 1.39674751e+03, -4.50228877e+02],\n",
       "       [-1.26100542e+03,  8.73953709e+01],\n",
       "       [-1.60495431e+03, -1.27896243e+02],\n",
       "       [ 1.27821931e+03,  2.63638732e+02],\n",
       "       [ 2.49603686e+02,  9.38934225e+02],\n",
       "       [ 1.60733335e+03, -4.78366272e+02],\n",
       "       [-1.26433865e+03,  1.07684505e+02],\n",
       "       [-1.43746915e+03, -2.13241585e+02],\n",
       "       [-1.27642129e+03, -1.98989959e+02],\n",
       "       [-1.39047880e+03,  2.62760135e+01],\n",
       "       [ 1.78522028e+03, -5.87002479e+02],\n",
       "       [-1.41876594e+03,  3.17449939e+01],\n",
       "       [ 1.33807701e+03,  2.49749592e+01],\n",
       "       [ 1.49542575e+03,  1.51625160e+02],\n",
       "       [-1.49411117e+03, -1.87839295e+02],\n",
       "       [ 1.40678058e+03, -2.28549241e+01],\n",
       "       [ 1.50134355e+03, -1.69430715e+02],\n",
       "       [-1.42392414e+03, -8.29761309e+01],\n",
       "       [ 1.07792273e+03,  5.33872856e+02],\n",
       "       [ 1.18189021e+03,  4.21095807e+02],\n",
       "       [ 1.05606725e+03,  2.89744483e+02],\n",
       "       [-1.37463645e+03, -1.54542114e+02],\n",
       "       [-1.27938943e+03, -8.86381572e+01],\n",
       "       [-1.47199219e+03, -9.30259200e+01],\n",
       "       [-1.42869848e+03,  1.42836466e+01],\n",
       "       [ 1.48447141e+03, -1.37518983e+02],\n",
       "       [ 1.96235493e+02,  1.00528289e+03],\n",
       "       [ 1.62563638e+03, -4.37999403e+02],\n",
       "       [ 1.72229042e+03, -5.56047287e+02],\n",
       "       [ 1.65413127e+03, -5.53599363e+02]])"
      ]
     },
     "execution_count": 26,
     "metadata": {},
     "output_type": "execute_result"
    }
   ],
   "source": [
    "reduced_values"
   ]
  },
  {
   "cell_type": "code",
   "execution_count": 27,
   "metadata": {},
   "outputs": [
    {
     "data": {
      "image/png": "[encoded data removed]",
      "text/plain": [
       "<Figure size 432x288 with 1 Axes>"
      ]
     },
     "metadata": {
      "needs_background": "light"
     },
     "output_type": "display_data"
    }
   ],
   "source": [
    "for index, value in enumerate(reduced_values):\n",
    "    plt.scatter(value[0], value[1], c=colors[deputies[index]])"
   ]
  },
  {
   "cell_type": "code",
   "execution_count": 19,
   "metadata": {},
   "outputs": [
    {
     "data": {
      "text/plain": [
       "'salmon'"
      ]
     },
     "execution_count": 19,
     "metadata": {},
     "output_type": "execute_result"
    }
   ],
   "source": [
    "colors[74]"
   ]
  },
  {
   "cell_type": "code",
   "execution_count": 34,
   "metadata": {},
   "outputs": [],
   "source": [
    "pg_colors = {'Partido Radical de Chile': 'lightpink', 'Partido Ecologista Verde': 'lightpink', 'Partido Socialista': 'brown', 'Partido Comunes': 'lightpink', 'Partido Republicano': 'lightpink', 'Partido Liberal de Chile': 'lightpink', 'Revolución Democrática': 'lightpink', 'Partido Humanista': 'lightpink', 'Partido Demócrata Cristiano': 'yellow', 'Partido Por la Democracia': 'peru', 'Partido Comunista': 'red', 'Unión Demócrata Independiente': 'blue', 'Renovación Nacional': 'purple', 'Partido Convergencia Social': 'lightpink', 'Evópoli': 'skyblue', 'Federación Regionalista Verde Social': 'lightpink', 'Independientes': 'green'}\n",
    "pg_colors = {k if v != 'lightpink' else 'Otros': v for k, v in pg_colors.items()}"
   ]
  },
  {
   "cell_type": "code",
   "execution_count": 35,
   "metadata": {},
   "outputs": [
    {
     "data": {
      "image/png": "[encoded data removed]",
      "text/plain": [
       "<Figure size 432x288 with 1 Axes>"
      ]
     },
     "metadata": {
      "needs_background": "light"
     },
     "output_type": "display_data"
    }
   ],
   "source": [
    "for k, v in pg_colors.items():\n",
    "    plt.scatter(0, 0, c=v, label=k)\n",
    "plt.legend()\n",
    "plt.show()"
   ]
  },
  {
   "cell_type": "code",
   "execution_count": null,
   "metadata": {},
   "outputs": [],
   "source": []
  }
 ],
 "metadata": {
  "kernelspec": {
   "display_name": "Python 3",
   "language": "python",
   "name": "python3"
  },
  "language_info": {
   "codemirror_mode": {
    "name": "ipython",
    "version": 3
   },
   "file_extension": ".py",
   "mimetype": "text/x-python",
   "name": "python",
   "nbconvert_exporter": "python",
   "pygments_lexer": "ipython3",
   "version": "3.6.2"
  }
 },
 "nbformat": 4,
 "nbformat_minor": 4
}
